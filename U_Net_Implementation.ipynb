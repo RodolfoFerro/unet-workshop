{
  "nbformat": 4,
  "nbformat_minor": 0,
  "metadata": {
    "colab": {
      "private_outputs": true,
      "provenance": [],
      "gpuType": "T4",
      "authorship_tag": "ABX9TyOF7rtOv6ANEQVmURjdj5L8",
      "include_colab_link": true
    },
    "kernelspec": {
      "name": "python3",
      "display_name": "Python 3"
    },
    "language_info": {
      "name": "python"
    },
    "accelerator": "GPU",
    "gpuClass": "standard"
  },
  "cells": [
    {
      "cell_type": "markdown",
      "metadata": {
        "id": "view-in-github",
        "colab_type": "text"
      },
      "source": [
        "<a href=\"https://colab.research.google.com/github/RodolfoFerro/unet-workshop/blob/main/U_Net_Implementation.ipynb\" target=\"_parent\"><img src=\"https://colab.research.google.com/assets/colab-badge.svg\" alt=\"Open In Colab\"/></a>"
      ]
    },
    {
      "cell_type": "markdown",
      "metadata": {
        "id": "5QFGlqz6AQQV"
      },
      "source": [
        "# Implementación de U-Net con TensorFlow\n",
        "\n",
        "> Contenido creado por **Rodolfo Ferro** ([Future Lab](https://futurelab.mx/), 2023 _–actualizado_). <br>\n",
        "> Contacto: ig - [@rodo_ferro](https://www.instagram.com/rodo_ferro/) & tw - [@rodo_ferro](https://twitter.com/rodo_ferro)\n",
        "\n",
        "En este cuaderno podrás encontrar un código base que implementa el modelo de U-Net para realizar un entrenamiento e inferencia de imágenes médicas."
      ]
    },
    {
      "cell_type": "markdown",
      "metadata": {
        "id": "i_BXRzLrBEdd"
      },
      "source": [
        "## Clonamos el repositorio\n",
        "\n",
        "Comenzaremos clonando el repositorio y asignando a la carpeta como la raíz."
      ]
    },
    {
      "cell_type": "code",
      "metadata": {
        "id": "0p7Tqyz-zfti"
      },
      "source": [
        "!git clone https://github.com/RodolfoFerro/unet-workshop.git\n",
        "%cd unet-workshop\n",
        "!ls"
      ],
      "execution_count": null,
      "outputs": []
    },
    {
      "cell_type": "markdown",
      "metadata": {
        "id": "s8IkF4N2DJV6"
      },
      "source": [
        "La estructura del código fuente es como sigue:\n",
        "- `unet/model.py` - Contiene la implementación del U-Net.\n",
        "- `utils/data.py` - Contiene funciones de utilería para carga de datos.\n",
        "- `utils/image.py` - Coniene funciones de utilería para cargar imágenes y mostrar los resultados de las inferencias.\n",
        "- `main.py` - Contiene una sencilla implementación de este cuaderno en un script de Python para entrenar el modelo."
      ]
    },
    {
      "cell_type": "markdown",
      "metadata": {
        "id": "yA1wiuc01lQd"
      },
      "source": [
        "------\n",
        "\n",
        "## Cargamos los datos\n",
        "\n",
        "A continuación procedemos a importar algunas bibliotecas y el código base del modelo.\n",
        "\n",
        "Haremos uso de alunas funciones que permiten cargar datos que encuentras en el folder `data`.\n",
        "\n",
        "Comenzaremos importando las funciones de los módulos a utilizar."
      ]
    },
    {
      "cell_type": "code",
      "metadata": {
        "id": "2kdal-XjznDC"
      },
      "source": [
        "from utils.data import train_generator\n",
        "from utils.data import test_generator\n",
        "from utils.data import save_results"
      ],
      "execution_count": null,
      "outputs": []
    },
    {
      "cell_type": "markdown",
      "metadata": {
        "id": "cLq_Gu9hDxX4"
      },
      "source": [
        "Procedemos a crear un diccionario de configuración para cargar datos."
      ]
    },
    {
      "cell_type": "code",
      "metadata": {
        "id": "lGXyhvn7bW0h"
      },
      "source": [
        "data_gen_args = dict(\n",
        "    rotation_range=0.2,\n",
        "    width_shift_range=0.05,\n",
        "    height_shift_range=0.05,\n",
        "    shear_range=0.05,\n",
        "    zoom_range=0.05,\n",
        "    horizontal_flip=True,\n",
        "    fill_mode='nearest'\n",
        ")\n",
        "\n",
        "train_gen = train_generator(\n",
        "    2, 'data/membrane/train',\n",
        "    'image', 'label',\n",
        "    data_gen_args,\n",
        "    save_to_dir=None\n",
        ")"
      ],
      "execution_count": null,
      "outputs": []
    },
    {
      "cell_type": "markdown",
      "source": [
        "------\n",
        "\n",
        "## Creamos el modelo\n",
        "\n",
        "Ahora, procederemos a crear el modelo. Para ello, dos opciones serán previstas.\n",
        "\n",
        "**OPCIÓN A:** Creamos nuestro propio U-Net con nuestras propias características, basándonos en la propuesta original:\n",
        "\n",
        "<center>\n",
        "    <img src=\"https://production-media.paperswithcode.com/methods/Screen_Shot_2020-07-07_at_9.08.00_PM_rpNArED.png\" width=\"60%\">\n",
        "</center>"
      ],
      "metadata": {
        "id": "K87oTtdQhdui"
      }
    },
    {
      "cell_type": "code",
      "source": [
        "from tensorflow.keras.models import Model\n",
        "from tensorflow.keras.layers import Input\n",
        "from tensorflow.keras.layers import Conv2D\n",
        "from tensorflow.keras.layers import MaxPooling2D\n",
        "from tensorflow.keras.layers import UpSampling2D\n",
        "from tensorflow.keras.layers import Dropout\n",
        "from tensorflow.keras.layers import concatenate\n",
        "from tensorflow.keras.optimizers import Adam\n",
        "\n",
        "\n",
        "def unet(pretrained_weights=None, input_size=(256, 256, 1)):\n",
        "    \"\"\"U-Net model constructor.\n",
        "\n",
        "    Parameters\n",
        "    ----------\n",
        "    pretrained_weights : str\n",
        "        Path to pretrained weights.\n",
        "    input_size : tuple\n",
        "        Spatial size of the expected input image.\n",
        "    \"\"\"\n",
        "\n",
        "    inputs = Input(input_size)\n",
        "\n",
        "    # Convolution chain #1\n",
        "    # conv_1 = ...\n",
        "    \n",
        "    # Continua aquí con tu propia implementación..."
      ],
      "metadata": {
        "id": "QAH4Q0TxiSnn"
      },
      "execution_count": null,
      "outputs": []
    },
    {
      "cell_type": "markdown",
      "metadata": {
        "id": "ttz1pS1SD5su"
      },
      "source": [
        "**OPCIÓN B:** Creamos una instancia del modelo ya implementado y entrenamos con los datos."
      ]
    },
    {
      "cell_type": "code",
      "metadata": {
        "id": "fKZb95kubdUf"
      },
      "source": [
        "from tensorflow.keras.callbacks import ModelCheckpoint\n",
        "\n",
        "from unet.model import unet\n",
        "\n",
        "\n",
        "model = unet()\n",
        "model_checkpoint = ModelCheckpoint(\n",
        "    'unet_membrane.hdf5',\n",
        "    monitor='loss',\n",
        "    verbose=1,\n",
        "    save_best_only=True\n",
        ")\n",
        "\n",
        "model.fit(\n",
        "    train_gen,\n",
        "    steps_per_epoch=300,\n",
        "    epochs=5,\n",
        "    callbacks=[model_checkpoint]\n",
        ")"
      ],
      "execution_count": null,
      "outputs": []
    },
    {
      "cell_type": "markdown",
      "metadata": {
        "id": "edeZ8WvsD89n"
      },
      "source": [
        "**¡Felicidades! Hasta este punto deberías haber entrenado exitosamente un U-Net con algunas imágenes médicas.**\n",
        "\n",
        "Una vez entrenado el modelo, podemos realizar pruebas de inferencia con el conjunto de pruebas que se encuentra en la misma carpeta de datos."
      ]
    },
    {
      "cell_type": "code",
      "metadata": {
        "id": "5i_ECOlzefxU"
      },
      "source": [
        "test_gen = test_generator('data/membrane/test')\n",
        "results = model.predict(test_gen, 30, verbose=True)\n",
        "save_results('data/results', results)"
      ],
      "execution_count": null,
      "outputs": []
    },
    {
      "cell_type": "markdown",
      "metadata": {
        "id": "i2-wE6B7jFj4"
      },
      "source": [
        "------\n",
        "\n",
        "## Resultados gráficos\n",
        "\n",
        "El código base provee algunas funciones para cargar, inferir y crear máscaras de los resultados al trabajar sobre algunas imágenes.\n",
        "\n",
        "Procedemos a importar las funciones del módulo de imágenes."
      ]
    },
    {
      "cell_type": "code",
      "metadata": {
        "id": "yU8bP3t25TDm"
      },
      "source": [
        "from utils.image import load_test_image\n",
        "from utils.image import inference_over_image\n",
        "from utils.image import create_mask\n",
        "from utils.image import overlay_mask"
      ],
      "execution_count": null,
      "outputs": []
    },
    {
      "cell_type": "markdown",
      "metadata": {
        "id": "vRE71y6dEchq"
      },
      "source": [
        "Cargamos una imagen del directorio de prueba, especificando con un número entero el índice de alguna de las 30 imágenes (`[0, 29]`)."
      ]
    },
    {
      "cell_type": "code",
      "metadata": {
        "id": "kzjLv6Rd8KuB"
      },
      "source": [
        "img = load_test_image(0)"
      ],
      "execution_count": null,
      "outputs": []
    },
    {
      "cell_type": "markdown",
      "metadata": {
        "id": "vUkAB_jOEpGz"
      },
      "source": [
        "Usamos el modelo previamente entrenado para inferir sobre la imagen previamente cargada."
      ]
    },
    {
      "cell_type": "code",
      "metadata": {
        "id": "ugcpTWtHp_rZ"
      },
      "source": [
        "out = inference_over_image(model, img)"
      ],
      "execution_count": null,
      "outputs": []
    },
    {
      "cell_type": "markdown",
      "metadata": {
        "id": "dd4rdm-4Ey2H"
      },
      "source": [
        "Creamos una máscara a partir de la inferencia."
      ]
    },
    {
      "cell_type": "code",
      "metadata": {
        "id": "MNylyGmZ0xEw"
      },
      "source": [
        "mask = create_mask(out)"
      ],
      "execution_count": null,
      "outputs": []
    },
    {
      "cell_type": "markdown",
      "metadata": {
        "id": "YEjSK__TE1j8"
      },
      "source": [
        "Sobreponemos la máscara en la imágen original para validar el resulatdo."
      ]
    },
    {
      "cell_type": "code",
      "metadata": {
        "id": "p9Q4oxihCgSq"
      },
      "source": [
        "res = overlay_mask(img, mask)"
      ],
      "execution_count": null,
      "outputs": []
    },
    {
      "cell_type": "markdown",
      "metadata": {
        "id": "FsmVIiyTE51p"
      },
      "source": [
        "**¡Felicidades! Has utilizado exitosamente tu modelo entrenado sobre algunas imágenes médicas.**"
      ]
    },
    {
      "cell_type": "markdown",
      "source": [
        "**Reto:** Yo me he encargado de enfocarme en utilizar las detecciones para la identificación de pared celular, sin embargo, puedes modificar o crear tus propias funciones para la detección celular completa.\n",
        "\n",
        "Por otro lado, no debes limitarte a ello, sino que puedes crear o cargar tu propio conjunto de datos para segmentar otro tipo de elementos, como las mitocondrias (echa un vistazo al [Electron Microscopy Dataset](https://www.epfl.ch/labs/cvlab/data/data-em/))."
      ],
      "metadata": {
        "id": "8U1tdrMYlDen"
      }
    }
  ]
}